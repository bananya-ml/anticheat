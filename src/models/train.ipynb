{
 "cells": [
  {
   "cell_type": "markdown",
   "metadata": {},
   "source": [
    "# Model Training\n",
    "\n",
    "This notebook will cover the iterative process of training multiple models to find one best suited to our needs, and then further explore the possibilities of improving the selected model's performance."
   ]
  },
  {
   "cell_type": "markdown",
   "metadata": {},
   "source": [
    "### Import the necessary libraries"
   ]
  },
  {
   "cell_type": "code",
   "execution_count": 4,
   "metadata": {},
   "outputs": [],
   "source": [
    "from deepod.models.time_series import (DevNetTS, PReNetTS, DeepSADTS, DeepSVDDTS, \n",
    "                                       DeepIsolationForestTS, AnomalyTransformer, \n",
    "                                       COUTA, TcnED, TimesNet, TranAD, USAD)\n",
    "from deepod.models.tabular import (DeepSAD, DeepSVDD, DeepIsolationForest, \n",
    "                                   RCA, REPEN, RDP, RoSAS, GOAD, NeuTraL, \n",
    "                                   ICL, SLAD, DevNet, PReNet, FeaWAD)\n",
    "import pandas as pd\n",
    "from sklearn.model_selection import train_test_split\n",
    "from deepod.metrics import ts_metrics\n",
    "from deepod.metrics import point_adjustment\n",
    "from deepod.metrics import tabular_metrics\n",
    "import joblib\n",
    "import torch"
   ]
  },
  {
   "cell_type": "markdown",
   "metadata": {},
   "source": [
    "Assign the variable 'data_dir' with the location of the combined data file to be used for training."
   ]
  },
  {
   "cell_type": "code",
   "execution_count": 5,
   "metadata": {},
   "outputs": [],
   "source": [
    "data_dir= \"../../data/anomalyDataset.parquet\""
   ]
  },
  {
   "cell_type": "code",
   "execution_count": 6,
   "metadata": {},
   "outputs": [],
   "source": [
    "df = pd.read_parquet(data_dir)"
   ]
  },
  {
   "cell_type": "code",
   "execution_count": 7,
   "metadata": {},
   "outputs": [
    {
     "data": {
      "text/plain": [
       "(2280812, 40)"
      ]
     },
     "execution_count": 7,
     "metadata": {},
     "output_type": "execute_result"
    }
   ],
   "source": [
    "df.shape"
   ]
  },
  {
   "cell_type": "code",
   "execution_count": 8,
   "metadata": {},
   "outputs": [
    {
     "name": "stdout",
     "output_type": "stream",
     "text": [
      "<class 'pandas.core.frame.DataFrame'>\n",
      "RangeIndex: 2280812 entries, 0 to 2280811\n",
      "Data columns (total 40 columns):\n",
      " #   Column             Dtype  \n",
      "---  ------             -----  \n",
      " 0   tick               float64\n",
      " 1   seconds            float64\n",
      " 2   clockTime          float64\n",
      " 3   attackerSteamID    float64\n",
      " 4   zoomLevel          float64\n",
      " 5   ctAlivePlayers     float64\n",
      " 6   entityId           float64\n",
      " 7   penetratedObjects  float64\n",
      " 8   steamID            float64\n",
      " 9   ping               float64\n",
      " 10  endTick            float64\n",
      " 11  tScore             float64\n",
      " 12  ctScore            float64\n",
      " 13  victimName         int64  \n",
      " 14  weapon             int64  \n",
      " 15  weaponClass        int64  \n",
      " 16  hitGroup           int64  \n",
      " 17  mapName            int64  \n",
      " 18  lastPlaceName      int64  \n",
      " 19  ctTeam             int64  \n",
      " 20  winningSide        int64  \n",
      " 21  roundEndReason     int64  \n",
      " 22  playerName         int64  \n",
      " 23  attackerStrafe     int64  \n",
      " 24  isSuicide          int64  \n",
      " 25  isHeadshot         int64  \n",
      " 26  isAlive            int64  \n",
      " 27  isBot              int64  \n",
      " 28  isAirborne         int64  \n",
      " 29  isStanding         int64  \n",
      " 30  playerStrafe       int64  \n",
      " 31  player             float64\n",
      " 32  playerView         float64\n",
      " 33  attacker           float64\n",
      " 34  velocity           float64\n",
      " 35  attackerView       float64\n",
      " 36  eye                float64\n",
      " 37  view               float64\n",
      " 38  pos                float64\n",
      " 39  label              int64  \n",
      "dtypes: float64(21), int64(19)\n",
      "memory usage: 696.0 MB\n"
     ]
    }
   ],
   "source": [
    "df.info()"
   ]
  },
  {
   "cell_type": "code",
   "execution_count": 9,
   "metadata": {},
   "outputs": [
    {
     "data": {
      "text/html": [
       "<div>\n",
       "<style scoped>\n",
       "    .dataframe tbody tr th:only-of-type {\n",
       "        vertical-align: middle;\n",
       "    }\n",
       "\n",
       "    .dataframe tbody tr th {\n",
       "        vertical-align: top;\n",
       "    }\n",
       "\n",
       "    .dataframe thead th {\n",
       "        text-align: right;\n",
       "    }\n",
       "</style>\n",
       "<table border=\"1\" class=\"dataframe\">\n",
       "  <thead>\n",
       "    <tr style=\"text-align: right;\">\n",
       "      <th></th>\n",
       "      <th>tick</th>\n",
       "      <th>seconds</th>\n",
       "      <th>clockTime</th>\n",
       "      <th>attackerSteamID</th>\n",
       "      <th>zoomLevel</th>\n",
       "      <th>ctAlivePlayers</th>\n",
       "      <th>entityId</th>\n",
       "      <th>penetratedObjects</th>\n",
       "      <th>steamID</th>\n",
       "      <th>ping</th>\n",
       "      <th>...</th>\n",
       "      <th>playerStrafe</th>\n",
       "      <th>player</th>\n",
       "      <th>playerView</th>\n",
       "      <th>attacker</th>\n",
       "      <th>velocity</th>\n",
       "      <th>attackerView</th>\n",
       "      <th>eye</th>\n",
       "      <th>view</th>\n",
       "      <th>pos</th>\n",
       "      <th>label</th>\n",
       "    </tr>\n",
       "  </thead>\n",
       "  <tbody>\n",
       "    <tr>\n",
       "      <th>count</th>\n",
       "      <td>2.280812e+06</td>\n",
       "      <td>2.280812e+06</td>\n",
       "      <td>2.280812e+06</td>\n",
       "      <td>2.280812e+06</td>\n",
       "      <td>2.280812e+06</td>\n",
       "      <td>2.280812e+06</td>\n",
       "      <td>2.280812e+06</td>\n",
       "      <td>2.280812e+06</td>\n",
       "      <td>2.280812e+06</td>\n",
       "      <td>2.280812e+06</td>\n",
       "      <td>...</td>\n",
       "      <td>2.280812e+06</td>\n",
       "      <td>2.280812e+06</td>\n",
       "      <td>2.280812e+06</td>\n",
       "      <td>2.280812e+06</td>\n",
       "      <td>2.280812e+06</td>\n",
       "      <td>2.280812e+06</td>\n",
       "      <td>2.280812e+06</td>\n",
       "      <td>2.280812e+06</td>\n",
       "      <td>2.280812e+06</td>\n",
       "      <td>2.280812e+06</td>\n",
       "    </tr>\n",
       "    <tr>\n",
       "      <th>mean</th>\n",
       "      <td>8.373943e-18</td>\n",
       "      <td>1.644882e-18</td>\n",
       "      <td>7.725959e-19</td>\n",
       "      <td>-2.124639e-18</td>\n",
       "      <td>4.361428e-19</td>\n",
       "      <td>-4.529655e-18</td>\n",
       "      <td>1.785070e-18</td>\n",
       "      <td>7.788265e-19</td>\n",
       "      <td>-6.632487e-18</td>\n",
       "      <td>-4.255508e-18</td>\n",
       "      <td>...</td>\n",
       "      <td>7.863528e-01</td>\n",
       "      <td>-4.252393e-19</td>\n",
       "      <td>1.495347e-19</td>\n",
       "      <td>3.598178e-19</td>\n",
       "      <td>1.129298e-19</td>\n",
       "      <td>4.304964e-19</td>\n",
       "      <td>-4.299122e-19</td>\n",
       "      <td>5.591974e-19</td>\n",
       "      <td>-6.074847e-20</td>\n",
       "      <td>1.118343e-01</td>\n",
       "    </tr>\n",
       "    <tr>\n",
       "      <th>std</th>\n",
       "      <td>1.000000e+00</td>\n",
       "      <td>1.000000e+00</td>\n",
       "      <td>1.000000e+00</td>\n",
       "      <td>1.000000e+00</td>\n",
       "      <td>9.986096e-01</td>\n",
       "      <td>1.000000e+00</td>\n",
       "      <td>1.000000e+00</td>\n",
       "      <td>9.918170e-01</td>\n",
       "      <td>1.000000e+00</td>\n",
       "      <td>1.000000e+00</td>\n",
       "      <td>...</td>\n",
       "      <td>4.098806e-01</td>\n",
       "      <td>1.021373e-01</td>\n",
       "      <td>1.047647e-01</td>\n",
       "      <td>1.022840e-01</td>\n",
       "      <td>1.005704e-01</td>\n",
       "      <td>1.000000e-01</td>\n",
       "      <td>1.008947e-01</td>\n",
       "      <td>1.031300e-01</td>\n",
       "      <td>1.010205e-01</td>\n",
       "      <td>3.151625e-01</td>\n",
       "    </tr>\n",
       "    <tr>\n",
       "      <th>min</th>\n",
       "      <td>-2.256910e+00</td>\n",
       "      <td>-1.674481e+00</td>\n",
       "      <td>-8.219581e-01</td>\n",
       "      <td>-3.358094e-01</td>\n",
       "      <td>-2.326045e-01</td>\n",
       "      <td>-3.849072e-01</td>\n",
       "      <td>-1.634722e-01</td>\n",
       "      <td>-3.076802e-02</td>\n",
       "      <td>-2.527913e+00</td>\n",
       "      <td>-1.358082e+00</td>\n",
       "      <td>...</td>\n",
       "      <td>0.000000e+00</td>\n",
       "      <td>-7.282323e-01</td>\n",
       "      <td>-6.416211e-02</td>\n",
       "      <td>-1.163952e+00</td>\n",
       "      <td>-5.829070e-01</td>\n",
       "      <td>-1.961177e-02</td>\n",
       "      <td>-4.593634e-01</td>\n",
       "      <td>-1.110109e-01</td>\n",
       "      <td>-4.672907e-01</td>\n",
       "      <td>0.000000e+00</td>\n",
       "    </tr>\n",
       "    <tr>\n",
       "      <th>25%</th>\n",
       "      <td>-8.639687e-01</td>\n",
       "      <td>-7.499488e-01</td>\n",
       "      <td>-5.865572e-01</td>\n",
       "      <td>-2.548507e-01</td>\n",
       "      <td>-1.653588e-01</td>\n",
       "      <td>-2.366159e-01</td>\n",
       "      <td>-1.454120e-01</td>\n",
       "      <td>-2.162975e-02</td>\n",
       "      <td>4.042295e-01</td>\n",
       "      <td>-9.650129e-01</td>\n",
       "      <td>...</td>\n",
       "      <td>1.000000e+00</td>\n",
       "      <td>-4.254398e-02</td>\n",
       "      <td>-4.908960e-02</td>\n",
       "      <td>-2.066508e-02</td>\n",
       "      <td>-7.848199e-03</td>\n",
       "      <td>-1.395518e-02</td>\n",
       "      <td>-7.587524e-02</td>\n",
       "      <td>-9.739955e-02</td>\n",
       "      <td>-7.645967e-02</td>\n",
       "      <td>0.000000e+00</td>\n",
       "    </tr>\n",
       "    <tr>\n",
       "      <th>50%</th>\n",
       "      <td>4.365810e-03</td>\n",
       "      <td>-2.067139e-01</td>\n",
       "      <td>-5.561748e-01</td>\n",
       "      <td>-2.441951e-01</td>\n",
       "      <td>-1.426325e-01</td>\n",
       "      <td>-2.325184e-01</td>\n",
       "      <td>-1.393170e-01</td>\n",
       "      <td>-1.902663e-02</td>\n",
       "      <td>4.153775e-01</td>\n",
       "      <td>1.775721e-02</td>\n",
       "      <td>...</td>\n",
       "      <td>1.000000e+00</td>\n",
       "      <td>9.990004e-03</td>\n",
       "      <td>-4.600334e-02</td>\n",
       "      <td>1.069358e-02</td>\n",
       "      <td>-2.095475e-03</td>\n",
       "      <td>-1.313829e-02</td>\n",
       "      <td>4.275710e-03</td>\n",
       "      <td>-2.971196e-02</td>\n",
       "      <td>4.461229e-03</td>\n",
       "      <td>0.000000e+00</td>\n",
       "    </tr>\n",
       "    <tr>\n",
       "      <th>75%</th>\n",
       "      <td>8.704235e-01</td>\n",
       "      <td>5.584039e-01</td>\n",
       "      <td>3.513650e-01</td>\n",
       "      <td>-2.327915e-01</td>\n",
       "      <td>-1.253662e-01</td>\n",
       "      <td>-2.279095e-01</td>\n",
       "      <td>-1.333834e-01</td>\n",
       "      <td>-1.567830e-02</td>\n",
       "      <td>4.229602e-01</td>\n",
       "      <td>7.433310e-01</td>\n",
       "      <td>...</td>\n",
       "      <td>1.000000e+00</td>\n",
       "      <td>4.355549e-02</td>\n",
       "      <td>-4.214606e-02</td>\n",
       "      <td>2.037440e-02</td>\n",
       "      <td>7.889210e-03</td>\n",
       "      <td>-1.259378e-02</td>\n",
       "      <td>7.030325e-02</td>\n",
       "      <td>8.905289e-02</td>\n",
       "      <td>6.890300e-02</td>\n",
       "      <td>0.000000e+00</td>\n",
       "    </tr>\n",
       "    <tr>\n",
       "      <th>max</th>\n",
       "      <td>2.058178e+00</td>\n",
       "      <td>9.708594e+01</td>\n",
       "      <td>3.210923e+00</td>\n",
       "      <td>4.701131e+00</td>\n",
       "      <td>2.332548e+01</td>\n",
       "      <td>6.100929e+00</td>\n",
       "      <td>1.816939e+01</td>\n",
       "      <td>1.250400e+02</td>\n",
       "      <td>5.825561e-01</td>\n",
       "      <td>3.519079e+01</td>\n",
       "      <td>...</td>\n",
       "      <td>1.000000e+00</td>\n",
       "      <td>8.890261e-01</td>\n",
       "      <td>4.543112e-01</td>\n",
       "      <td>1.505719e+00</td>\n",
       "      <td>5.125481e-01</td>\n",
       "      <td>1.200618e+00</td>\n",
       "      <td>4.913149e-01</td>\n",
       "      <td>2.750519e-01</td>\n",
       "      <td>4.943054e-01</td>\n",
       "      <td>1.000000e+00</td>\n",
       "    </tr>\n",
       "  </tbody>\n",
       "</table>\n",
       "<p>8 rows × 40 columns</p>\n",
       "</div>"
      ],
      "text/plain": [
       "               tick       seconds     clockTime  attackerSteamID  \\\n",
       "count  2.280812e+06  2.280812e+06  2.280812e+06     2.280812e+06   \n",
       "mean   8.373943e-18  1.644882e-18  7.725959e-19    -2.124639e-18   \n",
       "std    1.000000e+00  1.000000e+00  1.000000e+00     1.000000e+00   \n",
       "min   -2.256910e+00 -1.674481e+00 -8.219581e-01    -3.358094e-01   \n",
       "25%   -8.639687e-01 -7.499488e-01 -5.865572e-01    -2.548507e-01   \n",
       "50%    4.365810e-03 -2.067139e-01 -5.561748e-01    -2.441951e-01   \n",
       "75%    8.704235e-01  5.584039e-01  3.513650e-01    -2.327915e-01   \n",
       "max    2.058178e+00  9.708594e+01  3.210923e+00     4.701131e+00   \n",
       "\n",
       "          zoomLevel  ctAlivePlayers      entityId  penetratedObjects  \\\n",
       "count  2.280812e+06    2.280812e+06  2.280812e+06       2.280812e+06   \n",
       "mean   4.361428e-19   -4.529655e-18  1.785070e-18       7.788265e-19   \n",
       "std    9.986096e-01    1.000000e+00  1.000000e+00       9.918170e-01   \n",
       "min   -2.326045e-01   -3.849072e-01 -1.634722e-01      -3.076802e-02   \n",
       "25%   -1.653588e-01   -2.366159e-01 -1.454120e-01      -2.162975e-02   \n",
       "50%   -1.426325e-01   -2.325184e-01 -1.393170e-01      -1.902663e-02   \n",
       "75%   -1.253662e-01   -2.279095e-01 -1.333834e-01      -1.567830e-02   \n",
       "max    2.332548e+01    6.100929e+00  1.816939e+01       1.250400e+02   \n",
       "\n",
       "            steamID          ping  ...  playerStrafe        player  \\\n",
       "count  2.280812e+06  2.280812e+06  ...  2.280812e+06  2.280812e+06   \n",
       "mean  -6.632487e-18 -4.255508e-18  ...  7.863528e-01 -4.252393e-19   \n",
       "std    1.000000e+00  1.000000e+00  ...  4.098806e-01  1.021373e-01   \n",
       "min   -2.527913e+00 -1.358082e+00  ...  0.000000e+00 -7.282323e-01   \n",
       "25%    4.042295e-01 -9.650129e-01  ...  1.000000e+00 -4.254398e-02   \n",
       "50%    4.153775e-01  1.775721e-02  ...  1.000000e+00  9.990004e-03   \n",
       "75%    4.229602e-01  7.433310e-01  ...  1.000000e+00  4.355549e-02   \n",
       "max    5.825561e-01  3.519079e+01  ...  1.000000e+00  8.890261e-01   \n",
       "\n",
       "         playerView      attacker      velocity  attackerView           eye  \\\n",
       "count  2.280812e+06  2.280812e+06  2.280812e+06  2.280812e+06  2.280812e+06   \n",
       "mean   1.495347e-19  3.598178e-19  1.129298e-19  4.304964e-19 -4.299122e-19   \n",
       "std    1.047647e-01  1.022840e-01  1.005704e-01  1.000000e-01  1.008947e-01   \n",
       "min   -6.416211e-02 -1.163952e+00 -5.829070e-01 -1.961177e-02 -4.593634e-01   \n",
       "25%   -4.908960e-02 -2.066508e-02 -7.848199e-03 -1.395518e-02 -7.587524e-02   \n",
       "50%   -4.600334e-02  1.069358e-02 -2.095475e-03 -1.313829e-02  4.275710e-03   \n",
       "75%   -4.214606e-02  2.037440e-02  7.889210e-03 -1.259378e-02  7.030325e-02   \n",
       "max    4.543112e-01  1.505719e+00  5.125481e-01  1.200618e+00  4.913149e-01   \n",
       "\n",
       "               view           pos         label  \n",
       "count  2.280812e+06  2.280812e+06  2.280812e+06  \n",
       "mean   5.591974e-19 -6.074847e-20  1.118343e-01  \n",
       "std    1.031300e-01  1.010205e-01  3.151625e-01  \n",
       "min   -1.110109e-01 -4.672907e-01  0.000000e+00  \n",
       "25%   -9.739955e-02 -7.645967e-02  0.000000e+00  \n",
       "50%   -2.971196e-02  4.461229e-03  0.000000e+00  \n",
       "75%    8.905289e-02  6.890300e-02  0.000000e+00  \n",
       "max    2.750519e-01  4.943054e-01  1.000000e+00  \n",
       "\n",
       "[8 rows x 40 columns]"
      ]
     },
     "execution_count": 9,
     "metadata": {},
     "output_type": "execute_result"
    }
   ],
   "source": [
    "df.describe()"
   ]
  },
  {
   "cell_type": "markdown",
   "metadata": {},
   "source": [
    "We will select a subset of the total data to quickly iterate over all available models and test their performances without changing the default hyperparameters, to set a baseline for improving performance."
   ]
  },
  {
   "cell_type": "code",
   "execution_count": 10,
   "metadata": {},
   "outputs": [],
   "source": [
    "sub_df = df.iloc[:100000]"
   ]
  },
  {
   "cell_type": "code",
   "execution_count": 11,
   "metadata": {},
   "outputs": [
    {
     "data": {
      "text/plain": [
       "label\n",
       "0    89615\n",
       "1    10385\n",
       "Name: count, dtype: int64"
      ]
     },
     "execution_count": 11,
     "metadata": {},
     "output_type": "execute_result"
    }
   ],
   "source": [
    "sub_df[\"label\"].value_counts()"
   ]
  },
  {
   "cell_type": "markdown",
   "metadata": {},
   "source": [
    "*Note: Remember, our data has a temporal dependence, i.e., there is an order of events that makes sense. Hence, we cannot shuffle the data points and must pick a contiguous block of data as our subset.*"
   ]
  },
  {
   "cell_type": "code",
   "execution_count": 12,
   "metadata": {},
   "outputs": [],
   "source": [
    "X = sub_df.drop([\"label\"], axis=1).values\n",
    "y = sub_df[\"label\"].values"
   ]
  },
  {
   "cell_type": "code",
   "execution_count": 13,
   "metadata": {},
   "outputs": [],
   "source": [
    "X_train, X_test, y_train, y_test = train_test_split(X, y, test_size=0.2)"
   ]
  },
  {
   "cell_type": "markdown",
   "metadata": {},
   "source": [
    "Set the device to GPU, if available."
   ]
  },
  {
   "cell_type": "code",
   "execution_count": 14,
   "metadata": {},
   "outputs": [
    {
     "name": "stdout",
     "output_type": "stream",
     "text": [
      "GPU is available.\n"
     ]
    }
   ],
   "source": [
    "if torch.cuda.is_available():\n",
    "    device = torch.device(\"cuda\")\n",
    "    print(\"GPU is available.\")\n",
    "else:\n",
    "    device = torch.device(\"cpu\")\n",
    "    print(\"GPU is not available.\")"
   ]
  },
  {
   "cell_type": "code",
   "execution_count": null,
   "metadata": {},
   "outputs": [],
   "source": [
    "from deepod.model_selection import fmms\n",
    "\n",
    "fmms.fit()"
   ]
  },
  {
   "cell_type": "markdown",
   "metadata": {},
   "source": [
    "# Unsupervised Models\n"
   ]
  },
  {
   "cell_type": "markdown",
   "metadata": {},
   "source": [
    "## Tabular models\n",
    "***"
   ]
  },
  {
   "cell_type": "code",
   "execution_count": null,
   "metadata": {},
   "outputs": [],
   "source": [
    "model = DeepSVDD(lr=0.0001, device=device)\n",
    "model.fit(X_train, y=None)\n",
    "scores = model.decision_function(X_test)\n",
    "\n",
    "auc, ap, f1 = tabular_metrics(y_test, scores)\n",
    "print(\"Results for DeepSVDD:\\n\",\n",
    "      f\"auc: {auc:.2f}, average precision: {ap:.2f}, f1: {f1:.2f}\")"
   ]
  },
  {
   "cell_type": "code",
   "execution_count": null,
   "metadata": {},
   "outputs": [],
   "source": [
    "model = REPEN(lr=0.0001)\n",
    "model.fit(X_train, y=None)\n",
    "scores = model.decision_function(X_test)\n",
    "\n",
    "auc, ap, f1 = tabular_metrics(y_test, scores)\n",
    "print(\"Results for REPEN:\\n\",\n",
    "      f\"auc: {auc:.2f}, average precision: {ap:.2f}, f1: {f1:.2f}\")"
   ]
  },
  {
   "cell_type": "code",
   "execution_count": null,
   "metadata": {},
   "outputs": [],
   "source": [
    "model = RCA(lr=0.0001)\n",
    "model.fit(X_train, y=None)\n",
    "scores = model.decision_function(X_test)\n",
    "\n",
    "auc, ap, f1 = tabular_metrics(y_test, scores)\n",
    "print(\"Results for RCA:\\n\",\n",
    "      f\"auc: {auc:.2f}, average precision: {ap:.2f}, f1: {f1:.2f}\")"
   ]
  },
  {
   "cell_type": "code",
   "execution_count": null,
   "metadata": {},
   "outputs": [],
   "source": [
    "model = RDP(lr=0.0001)\n",
    "model.fit(X_train, y=None)\n",
    "scores = model.decision_function(X_test)\n",
    "\n",
    "auc, ap, f1 = tabular_metrics(y_test, scores)\n",
    "print(\"Results for RDP:\\n\",\n",
    "      f\"auc: {auc:.2f}, average precision: {ap:.2f}, f1: {f1:.2f}\")"
   ]
  },
  {
   "cell_type": "code",
   "execution_count": null,
   "metadata": {},
   "outputs": [],
   "source": [
    "model = GOAD(lr=0.0001)\n",
    "model.fit(X_train, y=None)\n",
    "scores = model.decision_function(X_test)\n",
    "\n",
    "auc, ap, f1 = tabular_metrics(y_test, scores)\n",
    "print(\"Results for GOAD:\\n\",\n",
    "      f\"auc: {auc:.2f}, average precision: {ap:.2f}, f1: {f1:.2f}\")"
   ]
  },
  {
   "cell_type": "code",
   "execution_count": null,
   "metadata": {},
   "outputs": [],
   "source": [
    "model = ICL(lr=0.0001)\n",
    "model.fit(X_train, y=None)\n",
    "scores = model.decision_function(X_test)\n",
    "\n",
    "auc, ap, f1 = tabular_metrics(y_test, scores)\n",
    "print(\"Results for ICL:\\n\",\n",
    "      f\"auc: {auc:.2f}, average precision: {ap:.2f}, f1: {f1:.2f}\")"
   ]
  },
  {
   "cell_type": "code",
   "execution_count": null,
   "metadata": {},
   "outputs": [],
   "source": [
    "model = NeuTraL(lr=0.0001)\n",
    "model.fit(X_train, y=None)\n",
    "scores = model.decision_function(X_test)\n",
    "\n",
    "auc, ap, f1 = tabular_metrics(y_test, scores)\n",
    "print(\"Results for NeuTraL:\\n\",\n",
    "      f\"auc: {auc:.2f}, average precision: {ap:.2f}, f1: {f1:.2f}\")"
   ]
  },
  {
   "cell_type": "code",
   "execution_count": null,
   "metadata": {},
   "outputs": [],
   "source": [
    "model = SLAD(lr=0.0001)\n",
    "model.fit(X_train, y=None)\n",
    "scores = model.decision_function(X_test)\n",
    "\n",
    "auc, ap, f1 = tabular_metrics(y_test, scores)\n",
    "print(\"Results for SLAD:\\n\",\n",
    "      f\"auc: {auc:.2f}, average precision: {ap:.2f}, f1: {f1:.2f}\")"
   ]
  },
  {
   "cell_type": "code",
   "execution_count": null,
   "metadata": {},
   "outputs": [],
   "source": [
    "model = DeepIsolationForest(lr=0.0001)\n",
    "model.fit(X_train, y=None)\n",
    "scores = model.decision_function(X_test)\n",
    "\n",
    "auc, ap, f1 = tabular_metrics(y_test, scores)\n",
    "print(\"Results for DeepIsolationForest:\\n\",\n",
    "      f\"auc: {auc:.2f}, average precision: {ap:.2f}, f1: {f1:.2f}\")"
   ]
  },
  {
   "cell_type": "markdown",
   "metadata": {},
   "source": [
    "## Time-series models\n",
    "***"
   ]
  },
  {
   "cell_type": "code",
   "execution_count": null,
   "metadata": {},
   "outputs": [],
   "source": [
    "model = DeepSVDDTS(device=device, network='LSTM')\n",
    "model.fit(X_train, y=None)\n",
    "\n",
    "scores = model.decision_function(X_test)\n",
    "anomalies = X_test[scores>0.5]\n",
    "\n",
    "eval_metrics = ts_metrics(y_test, scores)\n",
    "adj_eval_metrics = ts_metrics(y_test, point_adjustment(y_test, scores))\n",
    "print(\"Results for DeepSVDDTS:\\n\",\n",
    "      f\"auc: {adj_eval_metrics[1]:.2f}, average precision: {adj_eval_metrics[1]:.2f}, f1: {adj_eval_metrics[2]:.2f}, precision: {adj_eval_metrics[3]:.2f}, recall: {adj_eval_metrics[4]:.2f}\")"
   ]
  },
  {
   "cell_type": "code",
   "execution_count": null,
   "metadata": {},
   "outputs": [],
   "source": [
    "model = AnomalyTransformer()\n",
    "model.fit(X_train, y=None)\n",
    "\n",
    "scores = model.decision_function(X_test)\n",
    "anomalies = X_test[scores>0.5]\n",
    "\n",
    "auc, ap, f1, p, r = ts_metrics(y_test, scores)\n",
    "print(\"Results for AnomalyTransformer:\\n\",\n",
    "      f\"auc: {auc:.2f}, average precision: {ap:.2f}, f1: {f1:.2f}, precision: {p:.2f}, recall: {r:.2f}\")"
   ]
  },
  {
   "cell_type": "code",
   "execution_count": null,
   "metadata": {},
   "outputs": [],
   "source": [
    "model = COUTA()\n",
    "model.fit(X_train, y=None)\n",
    "\n",
    "scores = model.decision_function(X_test)\n",
    "anomalies = X_test[scores>0.5]\n",
    "\n",
    "auc, ap, f1, p, r = ts_metrics(y_test, scores)\n",
    "print(\"Results for COUTA:\\n\",\n",
    "      f\"auc: {auc:.2f}, average precision: {ap:.2f}, f1: {f1:.2f}, precision: {p:.2f}, recall: {r:.2f}\")"
   ]
  },
  {
   "cell_type": "code",
   "execution_count": null,
   "metadata": {},
   "outputs": [],
   "source": [
    "model = TcnED()\n",
    "model.fit(X_train, y=None)\n",
    "\n",
    "scores = model.decision_function(X_test)\n",
    "anomalies = X_test[scores>0.5]\n",
    "\n",
    "auc, ap, f1, p, r = ts_metrics(y_test, scores)\n",
    "print(\"Results for TcnED:\\n\",\n",
    "      f\"auc: {auc:.2f}, average precision: {ap:.2f}, f1: {f1:.2f}, precision: {p:.2f}, recall: {r:.2f}\")"
   ]
  },
  {
   "cell_type": "code",
   "execution_count": null,
   "metadata": {},
   "outputs": [],
   "source": [
    "model = TimesNet()\n",
    "model.fit(X_train, y=None)\n",
    "\n",
    "scores = model.decision_function(X_test)\n",
    "anomalies = X_test[scores>0.5]\n",
    "\n",
    "auc, ap, f1, p, r = ts_metrics(y_test, scores)\n",
    "print(\"Results for TimesNet:\\n\",\n",
    "      f\"auc: {auc:.2f}, average precision: {ap:.2f}, f1: {f1:.2f}, precision: {p:.2f}, recall: {r:.2f}\")"
   ]
  },
  {
   "cell_type": "code",
   "execution_count": null,
   "metadata": {},
   "outputs": [],
   "source": [
    "model = TranAD()\n",
    "model.fit(X_train, y=None)\n",
    "\n",
    "scores = model.decision_function(X_test)\n",
    "anomalies = X_test[scores>0.5]\n",
    "\n",
    "auc, ap, f1, p, r = ts_metrics(y_test, scores)\n",
    "print(\"Results for TranAD:\\n\",\n",
    "      f\"auc: {auc:.2f}, average precision: {ap:.2f}, f1: {f1:.2f}, precision: {p:.2f}, recall: {r:.2f}\")"
   ]
  },
  {
   "cell_type": "code",
   "execution_count": null,
   "metadata": {},
   "outputs": [],
   "source": [
    "model = DeepIsolationForestTS()\n",
    "model.fit(X_train, y=None)\n",
    "\n",
    "scores = model.decision_function(X_test)\n",
    "anomalies = X_test[scores>0.5]\n",
    "\n",
    "auc, ap, f1, p, r = ts_metrics(y_test, scores)\n",
    "print(\"Results for DeepIsolationForestTS:\\n\",\n",
    "      f\"auc: {auc:.2f}, average precision: {ap:.2f}, f1: {f1:.2f}, precision: {p:.2f}, recall: {r:.2f}\")"
   ]
  },
  {
   "cell_type": "code",
   "execution_count": null,
   "metadata": {},
   "outputs": [],
   "source": [
    "model = USAD()\n",
    "model.fit(X_train, y=None)\n",
    "\n",
    "scores = model.decision_function(X_test)\n",
    "anomalies = X_test[scores>0.5]\n",
    "\n",
    "auc, ap, f1, p, r = ts_metrics(y_test, scores)\n",
    "print(\"Results for USAD:\\n\",\n",
    "      f\"auc: {auc:.2f}, average precision: {ap:.2f}, f1: {f1:.2f}, precision: {p:.2f}, recall: {r:.2f}\")"
   ]
  },
  {
   "cell_type": "markdown",
   "metadata": {},
   "source": [
    "# Weakly-supervised models"
   ]
  },
  {
   "cell_type": "markdown",
   "metadata": {},
   "source": [
    "## Tabular models\n",
    "***"
   ]
  },
  {
   "cell_type": "code",
   "execution_count": null,
   "metadata": {},
   "outputs": [],
   "source": [
    "model = DevNet(lr=0.0001)\n",
    "model.fit(X_train, y=y_train)\n",
    "scores = model.decision_function(X_test)\n",
    "\n",
    "auc, ap, f1 = tabular_metrics(y_test, scores)\n",
    "print(\"Results for DevNet:\\n\",\n",
    "      f\"auc: {auc:.2f}, average precision: {ap:.2f}, f1: {f1:.2f}\")"
   ]
  },
  {
   "cell_type": "code",
   "execution_count": null,
   "metadata": {},
   "outputs": [],
   "source": [
    "model = PReNet(lr=0.0001)\n",
    "model.fit(X_train, y=y_train)\n",
    "scores = model.decision_function(X_test)\n",
    "\n",
    "auc, ap, f1 = tabular_metrics(y_test, scores)\n",
    "print(\"Results for PReNet:\\n\",\n",
    "      f\"auc: {auc:.2f}, average precision: {ap:.2f}, f1: {f1:.2f}\")"
   ]
  },
  {
   "cell_type": "code",
   "execution_count": null,
   "metadata": {},
   "outputs": [],
   "source": [
    "model = DeepSAD(lr=0.001)\n",
    "model.fit(X_train, y=y_train)\n",
    "scores = model.decision_function(X_test)\n",
    "\n",
    "auc, ap, f1 = tabular_metrics(y_test, scores)\n",
    "print(\"Results for DeepSAD:\\n\",\n",
    "      f\"auc: {auc:.2f}, average precision: {ap:.2f}, f1: {f1:.2f}\")"
   ]
  },
  {
   "cell_type": "code",
   "execution_count": null,
   "metadata": {},
   "outputs": [],
   "source": [
    "model = FeaWAD(lr=0.0001)\n",
    "model.fit(X_train, y=y_train)\n",
    "scores = model.decision_function(X_test)\n",
    "\n",
    "auc, ap, f1 = tabular_metrics(y_test, scores)\n",
    "print(\"Results for FeaWAD:\\n\",\n",
    "      f\"auc: {auc:.2f}, average precision: {ap:.2f}, f1: {f1:.2f}\")"
   ]
  },
  {
   "cell_type": "code",
   "execution_count": null,
   "metadata": {},
   "outputs": [],
   "source": [
    "model = RoSAS(lr=0.0001)\n",
    "model.fit(X_train, y=y_train)\n",
    "scores = model.decision_function(X_test)\n",
    "\n",
    "auc, ap, f1 = tabular_metrics(y_test, scores)\n",
    "print(\"Results for RoSAS:\\n\",\n",
    "      f\"auc: {auc:.2f}, average precision: {ap:.2f}, f1: {f1:.2f}\")"
   ]
  },
  {
   "cell_type": "markdown",
   "metadata": {},
   "source": [
    "## Time-series models\n",
    "***"
   ]
  },
  {
   "cell_type": "code",
   "execution_count": null,
   "metadata": {},
   "outputs": [],
   "source": [
    "model = DevNetTS(seq_len=50, )\n",
    "print(\"X:\", X_train.shape,\"y:\", y_train.shape)\n",
    "model.fit(X_train, y_train)\n",
    "\n",
    "scores = model.decision_function(X_test)\n",
    "anomalies = X_test[scores>0.5]\n",
    "\n",
    "auc, ap, f1, p, r = ts_metrics(y_test, scores)\n",
    "print(\"Results for DevNetTS:\\n\",\n",
    "      f\"auc: {auc:.2f}, average precision: {ap:.2f}, f1: {f1:.2f}, precision: {p:.2f}, recall: {r:.2f}\")"
   ]
  },
  {
   "cell_type": "code",
   "execution_count": null,
   "metadata": {},
   "outputs": [],
   "source": [
    "model = DeepSADTS(batch_size=100, lr=0.001, rep_dim=128, hidden_dims='100,50', act='ReLU', bias=False, epoch_steps=-1)\n",
    "model.fit(X_train, y_train)\n",
    "\n",
    "scores = model.decision_function(X_test)\n",
    "anomalies = X_test[scores>0.5]\n",
    "\n",
    "auc, ap, f1, p, r = ts_metrics(y_test, scores)\n",
    "print(\"Results for DeepSADTS:\\n\",\n",
    "      f\"auc: {auc:.2f}, average precision: {ap:.2f}, f1: {f1:.2f}, precision: {p:.2f}, recall: {r:.2f}\")"
   ]
  },
  {
   "cell_type": "code",
   "execution_count": null,
   "metadata": {},
   "outputs": [],
   "source": [
    "model = PReNetTS(batch_size=100, lr=0.001, rep_dim=128, hidden_dims='100,50', act='ReLU', bias=False, epoch_steps=-1)\n",
    "model.fit(X_train, y_train)\n",
    "\n",
    "scores = model.decision_function(X_test)\n",
    "anomalies = X_test[scores>0.5]\n",
    "\n",
    "auc, ap, f1, p, r = ts_metrics(y_test, scores)\n",
    "print(\"Results for PReNetTS:\\n\",\n",
    "      f\"auc: {auc:.2f}, average precision: {ap:.2f}, f1: {f1:.2f}, precision: {p:.2f}, recall: {r:.2f}\")"
   ]
  },
  {
   "cell_type": "markdown",
   "metadata": {},
   "source": [
    "# Results"
   ]
  },
  {
   "cell_type": "markdown",
   "metadata": {},
   "source": [
    "Even though our data is classified as time-series, i.e., events can only happen in a certain order, we observe that TS models tend to perform especially poorly on our dataset. This may be because a single anomaly within a 'match' unit can never be enough to predict an anomalous data point. It is a series of multiple anomalies that help us classify with high confidence if an individual is exploiting the game's system. \n",
    "\n",
    "However, a single series is not estabilished with a temporal pattern. The occurence of anomalous events does not directly and completely depend on the timestamp, but is a good feature to track these events. For example, a cheater may only use cheats every alternate round, or in a random pattern, so as to not be too obvious while using exploitative methods. The goal is for the model to identify an individual(s) within a unit that exhibits anomalous behaviour (like getting an extremely high number of kills, instantly spotting or snapping to enemy hitboxes, unusual pitch and yaw changes during movement and kills etc.)"
   ]
  }
 ],
 "metadata": {
  "kernelspec": {
   "display_name": "anticheat_env",
   "language": "python",
   "name": "python3"
  },
  "language_info": {
   "codemirror_mode": {
    "name": "ipython",
    "version": 3
   },
   "file_extension": ".py",
   "mimetype": "text/x-python",
   "name": "python",
   "nbconvert_exporter": "python",
   "pygments_lexer": "ipython3",
   "version": "3.10.0"
  }
 },
 "nbformat": 4,
 "nbformat_minor": 2
}
